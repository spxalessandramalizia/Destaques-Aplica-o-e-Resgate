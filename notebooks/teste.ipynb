{
 "metadata": {
  "language_info": {
   "codemirror_mode": {
    "name": "ipython",
    "version": 3
   },
   "file_extension": ".py",
   "mimetype": "text/x-python",
   "name": "python",
   "nbconvert_exporter": "python",
   "pygments_lexer": "ipython3",
   "version": "3.8.6-final"
  },
  "orig_nbformat": 2,
  "kernelspec": {
   "name": "Python 3.8.6 64-bit ('venv')",
   "display_name": "Python 3.8.6 64-bit ('venv')",
   "metadata": {
    "interpreter": {
     "hash": "0e89b32f5247e49f56f2cfac00e2d51a03820b8bc89d9d64ff5499f150f8ba16"
    }
   }
  }
 },
 "nbformat": 4,
 "nbformat_minor": 2,
 "cells": [
  {
   "cell_type": "code",
   "execution_count": 1,
   "metadata": {},
   "outputs": [],
   "source": [
    "import pyodbc as db\n",
    "import pandas as pd\n",
    "import matplotlib.pyplot as plt\n",
    "import datetime"
   ]
  },
  {
   "cell_type": "code",
   "execution_count": 16,
   "metadata": {},
   "outputs": [
    {
     "output_type": "execute_result",
     "data": {
      "text/plain": [
       "              COTISTA                      Unnamed: 1   FUNDO  \\\n",
       "0              CODIGO                    RAZÃO SOCIAL  CODIGO   \n",
       "1      41880000520417     AMAZONIA MULTIMERCADO FI CP   62010   \n",
       "2      41880000520409      QUARTET MULTIMERCADO FI CP   62010   \n",
       "3      41880000520425       YUCAHE MULTIMERCADO FI CP   62010   \n",
       "4      41880000524781  CSHG ALL SPX FALCON CSHG FIFIA   62012   \n",
       "...               ...                             ...     ...   \n",
       "70157  41930000921634       BRADESCO FI MULTIGESTORES   63486   \n",
       "70158  41940000044667      BRADESCO FIC FIM PGBL/VGBL   63486   \n",
       "70159  41940000120327    ITAÚ PREV MANAGED PORTF 3 II   63528   \n",
       "70160  41940000120343   ITAÚ PREV MANAGED PORTFOLIO 3   63528   \n",
       "70161  41010000356865      XP SEGUROS SUPERPREV FI MM   63559   \n",
       "\n",
       "                 Unnamed: 3 Unnamed: 4             OPERAÇÃO  \\\n",
       "0              RAZÃO SOCIAL     MASTER          SOLICITAÇÃO   \n",
       "1           PROWLER FIQ FIA     FALCON  2016-02-19 00:00:00   \n",
       "2           PROWLER FIQ FIA     FALCON  2016-02-19 00:00:00   \n",
       "3           PROWLER FIQ FIA     FALCON  2016-02-19 00:00:00   \n",
       "4       SPX FALCON CSHG FIQ     FALCON  2016-02-19 00:00:00   \n",
       "...                     ...        ...                  ...   \n",
       "70157  PREV SPX B LANCER FC     LANCER  2020-10-08 00:00:00   \n",
       "70158  PREV SPX B LANCER FC     LANCER  2020-10-08 00:00:00   \n",
       "70159     ITAU SPX LANCER 2     LANCER  2020-10-06 00:00:00   \n",
       "70160     ITAU SPX LANCER 2     LANCER  2020-10-06 00:00:00   \n",
       "70161  SPX LANCER XP SEGURO     LANCER  2020-10-06 00:00:00   \n",
       "\n",
       "                Unnamed: 6           Unnamed: 7 Unnamed: 8  \\\n",
       "0               QUOTIZAÇÃO           LIQUIDAÇÃO         OP   \n",
       "1      2016-02-19 00:00:00  2016-02-19 00:00:00          A   \n",
       "2      2016-02-19 00:00:00  2016-02-19 00:00:00          A   \n",
       "3      2016-02-19 00:00:00  2016-02-19 00:00:00          A   \n",
       "4      2016-02-19 00:00:00  2016-02-19 00:00:00          A   \n",
       "...                    ...                  ...        ...   \n",
       "70157  2020-10-08 00:00:00  2020-10-14 00:00:00          R   \n",
       "70158  2020-10-08 00:00:00  2020-10-14 00:00:00          R   \n",
       "70159  2020-10-08 00:00:00  2020-10-14 00:00:00          R   \n",
       "70160  2020-10-08 00:00:00  2020-10-14 00:00:00          R   \n",
       "70161  2020-10-08 00:00:00  2020-10-14 00:00:00          R   \n",
       "\n",
       "               Unnamed: 9 Unnamed: 10 Unnamed: 11 Unnamed: 12  \n",
       "0                     MOV  FINANCEIRO   QTD COTAS    ALOCADOR  \n",
       "1      FINANCEIRO LÍQUIDO      990000      834295        ITAU  \n",
       "2      FINANCEIRO LÍQUIDO      630000      530915        ITAU  \n",
       "3      FINANCEIRO LÍQUIDO      480000      404507        ITAU  \n",
       "4      FINANCEIRO LÍQUIDO      155000      130874        CSHG  \n",
       "...                   ...         ...         ...         ...  \n",
       "70157  FINANCEIRO LÍQUIDO      536330      512211    BRADESCO  \n",
       "70158  FINANCEIRO LÍQUIDO       89144     85135.2    BRADESCO  \n",
       "70159  FINANCEIRO LÍQUIDO       99000     9342.68        ITAU  \n",
       "70160  FINANCEIRO LÍQUIDO       99000     9342.68        ITAU  \n",
       "70161  FINANCEIRO LÍQUIDO     1000000      942281          XP  \n",
       "\n",
       "[70162 rows x 13 columns]"
      ],
      "text/html": "<div>\n<style scoped>\n    .dataframe tbody tr th:only-of-type {\n        vertical-align: middle;\n    }\n\n    .dataframe tbody tr th {\n        vertical-align: top;\n    }\n\n    .dataframe thead th {\n        text-align: right;\n    }\n</style>\n<table border=\"1\" class=\"dataframe\">\n  <thead>\n    <tr style=\"text-align: right;\">\n      <th></th>\n      <th>COTISTA</th>\n      <th>Unnamed: 1</th>\n      <th>FUNDO</th>\n      <th>Unnamed: 3</th>\n      <th>Unnamed: 4</th>\n      <th>OPERAÇÃO</th>\n      <th>Unnamed: 6</th>\n      <th>Unnamed: 7</th>\n      <th>Unnamed: 8</th>\n      <th>Unnamed: 9</th>\n      <th>Unnamed: 10</th>\n      <th>Unnamed: 11</th>\n      <th>Unnamed: 12</th>\n    </tr>\n  </thead>\n  <tbody>\n    <tr>\n      <th>0</th>\n      <td>CODIGO</td>\n      <td>RAZÃO SOCIAL</td>\n      <td>CODIGO</td>\n      <td>RAZÃO SOCIAL</td>\n      <td>MASTER</td>\n      <td>SOLICITAÇÃO</td>\n      <td>QUOTIZAÇÃO</td>\n      <td>LIQUIDAÇÃO</td>\n      <td>OP</td>\n      <td>MOV</td>\n      <td>FINANCEIRO</td>\n      <td>QTD COTAS</td>\n      <td>ALOCADOR</td>\n    </tr>\n    <tr>\n      <th>1</th>\n      <td>41880000520417</td>\n      <td>AMAZONIA MULTIMERCADO FI CP</td>\n      <td>62010</td>\n      <td>PROWLER FIQ FIA</td>\n      <td>FALCON</td>\n      <td>2016-02-19 00:00:00</td>\n      <td>2016-02-19 00:00:00</td>\n      <td>2016-02-19 00:00:00</td>\n      <td>A</td>\n      <td>FINANCEIRO LÍQUIDO</td>\n      <td>990000</td>\n      <td>834295</td>\n      <td>ITAU</td>\n    </tr>\n    <tr>\n      <th>2</th>\n      <td>41880000520409</td>\n      <td>QUARTET MULTIMERCADO FI CP</td>\n      <td>62010</td>\n      <td>PROWLER FIQ FIA</td>\n      <td>FALCON</td>\n      <td>2016-02-19 00:00:00</td>\n      <td>2016-02-19 00:00:00</td>\n      <td>2016-02-19 00:00:00</td>\n      <td>A</td>\n      <td>FINANCEIRO LÍQUIDO</td>\n      <td>630000</td>\n      <td>530915</td>\n      <td>ITAU</td>\n    </tr>\n    <tr>\n      <th>3</th>\n      <td>41880000520425</td>\n      <td>YUCAHE MULTIMERCADO FI CP</td>\n      <td>62010</td>\n      <td>PROWLER FIQ FIA</td>\n      <td>FALCON</td>\n      <td>2016-02-19 00:00:00</td>\n      <td>2016-02-19 00:00:00</td>\n      <td>2016-02-19 00:00:00</td>\n      <td>A</td>\n      <td>FINANCEIRO LÍQUIDO</td>\n      <td>480000</td>\n      <td>404507</td>\n      <td>ITAU</td>\n    </tr>\n    <tr>\n      <th>4</th>\n      <td>41880000524781</td>\n      <td>CSHG ALL SPX FALCON CSHG FIFIA</td>\n      <td>62012</td>\n      <td>SPX FALCON CSHG FIQ</td>\n      <td>FALCON</td>\n      <td>2016-02-19 00:00:00</td>\n      <td>2016-02-19 00:00:00</td>\n      <td>2016-02-19 00:00:00</td>\n      <td>A</td>\n      <td>FINANCEIRO LÍQUIDO</td>\n      <td>155000</td>\n      <td>130874</td>\n      <td>CSHG</td>\n    </tr>\n    <tr>\n      <th>...</th>\n      <td>...</td>\n      <td>...</td>\n      <td>...</td>\n      <td>...</td>\n      <td>...</td>\n      <td>...</td>\n      <td>...</td>\n      <td>...</td>\n      <td>...</td>\n      <td>...</td>\n      <td>...</td>\n      <td>...</td>\n      <td>...</td>\n    </tr>\n    <tr>\n      <th>70157</th>\n      <td>41930000921634</td>\n      <td>BRADESCO FI MULTIGESTORES</td>\n      <td>63486</td>\n      <td>PREV SPX B LANCER FC</td>\n      <td>LANCER</td>\n      <td>2020-10-08 00:00:00</td>\n      <td>2020-10-08 00:00:00</td>\n      <td>2020-10-14 00:00:00</td>\n      <td>R</td>\n      <td>FINANCEIRO LÍQUIDO</td>\n      <td>536330</td>\n      <td>512211</td>\n      <td>BRADESCO</td>\n    </tr>\n    <tr>\n      <th>70158</th>\n      <td>41940000044667</td>\n      <td>BRADESCO FIC FIM PGBL/VGBL</td>\n      <td>63486</td>\n      <td>PREV SPX B LANCER FC</td>\n      <td>LANCER</td>\n      <td>2020-10-08 00:00:00</td>\n      <td>2020-10-08 00:00:00</td>\n      <td>2020-10-14 00:00:00</td>\n      <td>R</td>\n      <td>FINANCEIRO LÍQUIDO</td>\n      <td>89144</td>\n      <td>85135.2</td>\n      <td>BRADESCO</td>\n    </tr>\n    <tr>\n      <th>70159</th>\n      <td>41940000120327</td>\n      <td>ITAÚ PREV MANAGED PORTF 3 II</td>\n      <td>63528</td>\n      <td>ITAU SPX LANCER 2</td>\n      <td>LANCER</td>\n      <td>2020-10-06 00:00:00</td>\n      <td>2020-10-08 00:00:00</td>\n      <td>2020-10-14 00:00:00</td>\n      <td>R</td>\n      <td>FINANCEIRO LÍQUIDO</td>\n      <td>99000</td>\n      <td>9342.68</td>\n      <td>ITAU</td>\n    </tr>\n    <tr>\n      <th>70160</th>\n      <td>41940000120343</td>\n      <td>ITAÚ PREV MANAGED PORTFOLIO 3</td>\n      <td>63528</td>\n      <td>ITAU SPX LANCER 2</td>\n      <td>LANCER</td>\n      <td>2020-10-06 00:00:00</td>\n      <td>2020-10-08 00:00:00</td>\n      <td>2020-10-14 00:00:00</td>\n      <td>R</td>\n      <td>FINANCEIRO LÍQUIDO</td>\n      <td>99000</td>\n      <td>9342.68</td>\n      <td>ITAU</td>\n    </tr>\n    <tr>\n      <th>70161</th>\n      <td>41010000356865</td>\n      <td>XP SEGUROS SUPERPREV FI MM</td>\n      <td>63559</td>\n      <td>SPX LANCER XP SEGURO</td>\n      <td>LANCER</td>\n      <td>2020-10-06 00:00:00</td>\n      <td>2020-10-08 00:00:00</td>\n      <td>2020-10-14 00:00:00</td>\n      <td>R</td>\n      <td>FINANCEIRO LÍQUIDO</td>\n      <td>1000000</td>\n      <td>942281</td>\n      <td>XP</td>\n    </tr>\n  </tbody>\n</table>\n<p>70162 rows × 13 columns</p>\n</div>"
     },
     "metadata": {},
     "execution_count": 16
    }
   ],
   "source": [
    "mov = pd.read_excel(r'O:\\CAIXAS\\FLUXO\\Movimentações Histórica.xlsm', sheet_name='BASE')\n",
    "dict_masters = {'NIMITZ':61981, 'RAPTOR':61984, 'FALCON':61922, 'PATRIOT':61921, 'APACHE':61923, 'LANCER':63056, 'SEAHAWK':64480}\n",
    "mov"
   ]
  },
  {
   "cell_type": "code",
   "execution_count": 17,
   "metadata": {},
   "outputs": [
    {
     "output_type": "execute_result",
     "data": {
      "text/plain": [
       "               CODCOT                                  COTISTA CODFUND  \\\n",
       "1      41880000520417              AMAZONIA MULTIMERCADO FI CP   62010   \n",
       "2      41880000520409               QUARTET MULTIMERCADO FI CP   62010   \n",
       "3      41880000520425                YUCAHE MULTIMERCADO FI CP   62010   \n",
       "4      41880000524781           CSHG ALL SPX FALCON CSHG FIFIA   62012   \n",
       "5              173001  CSHG ALLOCATION SPX NIMITZ CSHG FIC FIM   62157   \n",
       "...               ...                                      ...     ...   \n",
       "70157  41930000921634                BRADESCO FI MULTIGESTORES   63486   \n",
       "70158  41940000044667               BRADESCO FIC FIM PGBL/VGBL   63486   \n",
       "70159  41940000120327             ITAÚ PREV MANAGED PORTF 3 II   63528   \n",
       "70160  41940000120343            ITAÚ PREV MANAGED PORTFOLIO 3   63528   \n",
       "70161  41010000356865               XP SEGUROS SUPERPREV FI MM   63559   \n",
       "\n",
       "                      FUNDO CODMASTER          SOLICITACAO  \\\n",
       "1           PROWLER FIQ FIA    FALCON  2016-02-19 00:00:00   \n",
       "2           PROWLER FIQ FIA    FALCON  2016-02-19 00:00:00   \n",
       "3           PROWLER FIQ FIA    FALCON  2016-02-19 00:00:00   \n",
       "4       SPX FALCON CSHG FIQ    FALCON  2016-02-19 00:00:00   \n",
       "5       SPX NIMITZ CSHG FIQ    NIMITZ  2016-02-18 00:00:00   \n",
       "...                     ...       ...                  ...   \n",
       "70157  PREV SPX B LANCER FC    LANCER  2020-10-08 00:00:00   \n",
       "70158  PREV SPX B LANCER FC    LANCER  2020-10-08 00:00:00   \n",
       "70159     ITAU SPX LANCER 2    LANCER  2020-10-06 00:00:00   \n",
       "70160     ITAU SPX LANCER 2    LANCER  2020-10-06 00:00:00   \n",
       "70161  SPX LANCER XP SEGURO    LANCER  2020-10-06 00:00:00   \n",
       "\n",
       "                 COTIZACAO              IMPACTO OPERACAO        TIPO_RESGATE  \\\n",
       "1      2016-02-19 00:00:00  2016-02-19 00:00:00        A  FINANCEIRO LÍQUIDO   \n",
       "2      2016-02-19 00:00:00  2016-02-19 00:00:00        A  FINANCEIRO LÍQUIDO   \n",
       "3      2016-02-19 00:00:00  2016-02-19 00:00:00        A  FINANCEIRO LÍQUIDO   \n",
       "4      2016-02-19 00:00:00  2016-02-19 00:00:00        A  FINANCEIRO LÍQUIDO   \n",
       "5      2016-02-19 00:00:00  2016-02-18 00:00:00        A  FINANCEIRO LÍQUIDO   \n",
       "...                    ...                  ...      ...                 ...   \n",
       "70157  2020-10-08 00:00:00  2020-10-14 00:00:00        R  FINANCEIRO LÍQUIDO   \n",
       "70158  2020-10-08 00:00:00  2020-10-14 00:00:00        R  FINANCEIRO LÍQUIDO   \n",
       "70159  2020-10-08 00:00:00  2020-10-14 00:00:00        R  FINANCEIRO LÍQUIDO   \n",
       "70160  2020-10-08 00:00:00  2020-10-14 00:00:00        R  FINANCEIRO LÍQUIDO   \n",
       "70161  2020-10-08 00:00:00  2020-10-14 00:00:00        R  FINANCEIRO LÍQUIDO   \n",
       "\n",
       "      FINANCEIRO    COTAS  ALOCADOR  \n",
       "1         990000   834295      ITAU  \n",
       "2         630000   530915      ITAU  \n",
       "3         480000   404507      ITAU  \n",
       "4         155000   130874      CSHG  \n",
       "5         450000      NaN      CSHG  \n",
       "...          ...      ...       ...  \n",
       "70157     536330   512211  BRADESCO  \n",
       "70158      89144  85135.2  BRADESCO  \n",
       "70159      99000  9342.68      ITAU  \n",
       "70160      99000  9342.68      ITAU  \n",
       "70161    1000000   942281        XP  \n",
       "\n",
       "[70161 rows x 13 columns]"
      ],
      "text/html": "<div>\n<style scoped>\n    .dataframe tbody tr th:only-of-type {\n        vertical-align: middle;\n    }\n\n    .dataframe tbody tr th {\n        vertical-align: top;\n    }\n\n    .dataframe thead th {\n        text-align: right;\n    }\n</style>\n<table border=\"1\" class=\"dataframe\">\n  <thead>\n    <tr style=\"text-align: right;\">\n      <th></th>\n      <th>CODCOT</th>\n      <th>COTISTA</th>\n      <th>CODFUND</th>\n      <th>FUNDO</th>\n      <th>CODMASTER</th>\n      <th>SOLICITACAO</th>\n      <th>COTIZACAO</th>\n      <th>IMPACTO</th>\n      <th>OPERACAO</th>\n      <th>TIPO_RESGATE</th>\n      <th>FINANCEIRO</th>\n      <th>COTAS</th>\n      <th>ALOCADOR</th>\n    </tr>\n  </thead>\n  <tbody>\n    <tr>\n      <th>1</th>\n      <td>41880000520417</td>\n      <td>AMAZONIA MULTIMERCADO FI CP</td>\n      <td>62010</td>\n      <td>PROWLER FIQ FIA</td>\n      <td>FALCON</td>\n      <td>2016-02-19 00:00:00</td>\n      <td>2016-02-19 00:00:00</td>\n      <td>2016-02-19 00:00:00</td>\n      <td>A</td>\n      <td>FINANCEIRO LÍQUIDO</td>\n      <td>990000</td>\n      <td>834295</td>\n      <td>ITAU</td>\n    </tr>\n    <tr>\n      <th>2</th>\n      <td>41880000520409</td>\n      <td>QUARTET MULTIMERCADO FI CP</td>\n      <td>62010</td>\n      <td>PROWLER FIQ FIA</td>\n      <td>FALCON</td>\n      <td>2016-02-19 00:00:00</td>\n      <td>2016-02-19 00:00:00</td>\n      <td>2016-02-19 00:00:00</td>\n      <td>A</td>\n      <td>FINANCEIRO LÍQUIDO</td>\n      <td>630000</td>\n      <td>530915</td>\n      <td>ITAU</td>\n    </tr>\n    <tr>\n      <th>3</th>\n      <td>41880000520425</td>\n      <td>YUCAHE MULTIMERCADO FI CP</td>\n      <td>62010</td>\n      <td>PROWLER FIQ FIA</td>\n      <td>FALCON</td>\n      <td>2016-02-19 00:00:00</td>\n      <td>2016-02-19 00:00:00</td>\n      <td>2016-02-19 00:00:00</td>\n      <td>A</td>\n      <td>FINANCEIRO LÍQUIDO</td>\n      <td>480000</td>\n      <td>404507</td>\n      <td>ITAU</td>\n    </tr>\n    <tr>\n      <th>4</th>\n      <td>41880000524781</td>\n      <td>CSHG ALL SPX FALCON CSHG FIFIA</td>\n      <td>62012</td>\n      <td>SPX FALCON CSHG FIQ</td>\n      <td>FALCON</td>\n      <td>2016-02-19 00:00:00</td>\n      <td>2016-02-19 00:00:00</td>\n      <td>2016-02-19 00:00:00</td>\n      <td>A</td>\n      <td>FINANCEIRO LÍQUIDO</td>\n      <td>155000</td>\n      <td>130874</td>\n      <td>CSHG</td>\n    </tr>\n    <tr>\n      <th>5</th>\n      <td>173001</td>\n      <td>CSHG ALLOCATION SPX NIMITZ CSHG FIC FIM</td>\n      <td>62157</td>\n      <td>SPX NIMITZ CSHG FIQ</td>\n      <td>NIMITZ</td>\n      <td>2016-02-18 00:00:00</td>\n      <td>2016-02-19 00:00:00</td>\n      <td>2016-02-18 00:00:00</td>\n      <td>A</td>\n      <td>FINANCEIRO LÍQUIDO</td>\n      <td>450000</td>\n      <td>NaN</td>\n      <td>CSHG</td>\n    </tr>\n    <tr>\n      <th>...</th>\n      <td>...</td>\n      <td>...</td>\n      <td>...</td>\n      <td>...</td>\n      <td>...</td>\n      <td>...</td>\n      <td>...</td>\n      <td>...</td>\n      <td>...</td>\n      <td>...</td>\n      <td>...</td>\n      <td>...</td>\n      <td>...</td>\n    </tr>\n    <tr>\n      <th>70157</th>\n      <td>41930000921634</td>\n      <td>BRADESCO FI MULTIGESTORES</td>\n      <td>63486</td>\n      <td>PREV SPX B LANCER FC</td>\n      <td>LANCER</td>\n      <td>2020-10-08 00:00:00</td>\n      <td>2020-10-08 00:00:00</td>\n      <td>2020-10-14 00:00:00</td>\n      <td>R</td>\n      <td>FINANCEIRO LÍQUIDO</td>\n      <td>536330</td>\n      <td>512211</td>\n      <td>BRADESCO</td>\n    </tr>\n    <tr>\n      <th>70158</th>\n      <td>41940000044667</td>\n      <td>BRADESCO FIC FIM PGBL/VGBL</td>\n      <td>63486</td>\n      <td>PREV SPX B LANCER FC</td>\n      <td>LANCER</td>\n      <td>2020-10-08 00:00:00</td>\n      <td>2020-10-08 00:00:00</td>\n      <td>2020-10-14 00:00:00</td>\n      <td>R</td>\n      <td>FINANCEIRO LÍQUIDO</td>\n      <td>89144</td>\n      <td>85135.2</td>\n      <td>BRADESCO</td>\n    </tr>\n    <tr>\n      <th>70159</th>\n      <td>41940000120327</td>\n      <td>ITAÚ PREV MANAGED PORTF 3 II</td>\n      <td>63528</td>\n      <td>ITAU SPX LANCER 2</td>\n      <td>LANCER</td>\n      <td>2020-10-06 00:00:00</td>\n      <td>2020-10-08 00:00:00</td>\n      <td>2020-10-14 00:00:00</td>\n      <td>R</td>\n      <td>FINANCEIRO LÍQUIDO</td>\n      <td>99000</td>\n      <td>9342.68</td>\n      <td>ITAU</td>\n    </tr>\n    <tr>\n      <th>70160</th>\n      <td>41940000120343</td>\n      <td>ITAÚ PREV MANAGED PORTFOLIO 3</td>\n      <td>63528</td>\n      <td>ITAU SPX LANCER 2</td>\n      <td>LANCER</td>\n      <td>2020-10-06 00:00:00</td>\n      <td>2020-10-08 00:00:00</td>\n      <td>2020-10-14 00:00:00</td>\n      <td>R</td>\n      <td>FINANCEIRO LÍQUIDO</td>\n      <td>99000</td>\n      <td>9342.68</td>\n      <td>ITAU</td>\n    </tr>\n    <tr>\n      <th>70161</th>\n      <td>41010000356865</td>\n      <td>XP SEGUROS SUPERPREV FI MM</td>\n      <td>63559</td>\n      <td>SPX LANCER XP SEGURO</td>\n      <td>LANCER</td>\n      <td>2020-10-06 00:00:00</td>\n      <td>2020-10-08 00:00:00</td>\n      <td>2020-10-14 00:00:00</td>\n      <td>R</td>\n      <td>FINANCEIRO LÍQUIDO</td>\n      <td>1000000</td>\n      <td>942281</td>\n      <td>XP</td>\n    </tr>\n  </tbody>\n</table>\n<p>70161 rows × 13 columns</p>\n</div>"
     },
     "metadata": {},
     "execution_count": 17
    }
   ],
   "source": [
    "mov.columns = ['CODCOT', 'COTISTA', 'CODFUND', 'FUNDO', 'CODMASTER', 'SOLICITACAO', 'COTIZACAO', 'IMPACTO', 'OPERACAO', 'TIPO_RESGATE', 'FINANCEIRO', 'COTAS', 'ALOCADOR']\n",
    "mov.replace({'CODMASTER':dict_masters}, inplace=True)\n",
    "mov = mov[1:]\n",
    "mov"
   ]
  },
  {
   "cell_type": "code",
   "execution_count": null,
   "metadata": {},
   "outputs": [],
   "source": []
  }
 ]
}